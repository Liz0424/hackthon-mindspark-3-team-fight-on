{
  "cells": [
    {
      "cell_type": "code",
      "source": [
        "from google.colab import drive\n",
        "drive.mount('/content/drive')"
      ],
      "metadata": {
        "colab": {
          "base_uri": "https://localhost:8080/"
        },
        "id": "wqTDq0H-XF7u",
        "outputId": "2fd6373e-73a8-41d6-8276-36ab5e8bf678"
      },
      "id": "wqTDq0H-XF7u",
      "execution_count": 32,
      "outputs": [
        {
          "output_type": "stream",
          "name": "stdout",
          "text": [
            "Drive already mounted at /content/drive; to attempt to forcibly remount, call drive.mount(\"/content/drive\", force_remount=True).\n"
          ]
        }
      ]
    },
    {
      "cell_type": "code",
      "execution_count": 46,
      "id": "2e7a1db4",
      "metadata": {
        "id": "2e7a1db4"
      },
      "outputs": [],
      "source": [
        "import numpy as np\n",
        "import cv2\n",
        "from tensorflow.keras.layers import Input, Conv2D, BatchNormalization, Dropout, Flatten, Dense, MaxPool2D\n",
        "from tensorflow.keras.models import Model, Sequential\n",
        "from tensorflow.keras.initializers import glorot_uniform\n",
        "from tensorflow.keras.optimizers import Adam, SGD\n",
        "import matplotlib.pyplot as plt\n",
        "from sklearn.metrics import classification_report\n",
        "from tensorflow.keras.preprocessing.image import ImageDataGenerator\n",
        "from sklearn.model_selection import train_test_split\n",
        "from tensorflow.keras.utils import to_categorical\n",
        "from sklearn.preprocessing import LabelEncoder\n",
        "from sklearn.metrics import classification_report, confusion_matrix\n",
        "import seaborn as sns\n",
        "from tensorflow.keras.regularizers import l2\n",
        "import tensorflow as tf\n",
        "import pandas as pd\n",
        "from imutils.face_utils import FaceAligner\n",
        "from imutils.face_utils import rect_to_bb\n",
        "import imutils\n",
        "import dlib"
      ]
    },
    {
      "cell_type": "code",
      "execution_count": 47,
      "id": "3d9911b3",
      "metadata": {
        "colab": {
          "base_uri": "https://localhost:8080/"
        },
        "id": "3d9911b3",
        "outputId": "bdca19cf-ccc4-4cdf-c357-dfb684c93e84"
      },
      "outputs": [
        {
          "output_type": "stream",
          "name": "stdout",
          "text": [
            "1452\n",
            "1452\n"
          ]
        }
      ],
      "source": [
        "data = np.load('/content/drive/MyDrive/Colab Notebooks/train/driver_drowsiness_detection/dataset_compressed.npz', allow_pickle=True)\n",
        "X = data['arr_0']\n",
        "Y = data['arr_1']\n",
        "\n",
        "X = list(X)\n",
        "Y = list(Y)\n",
        "print(len(X))\n",
        "print(len(Y))"
      ]
    },
    {
      "cell_type": "markdown",
      "source": [
        "# New Section"
      ],
      "metadata": {
        "id": "vPNT2p2LbSMN"
      },
      "id": "vPNT2p2LbSMN"
    },
    {
      "cell_type": "code",
      "execution_count": 48,
      "id": "1807ebc9",
      "metadata": {
        "colab": {
          "base_uri": "https://localhost:8080/"
        },
        "id": "1807ebc9",
        "outputId": "a72be361-cc3b-4107-dd7f-64b78a24ceb5"
      },
      "outputs": [
        {
          "output_type": "stream",
          "name": "stdout",
          "text": [
            "1452\n",
            "(32, 32, 3)\n"
          ]
        }
      ],
      "source": [
        "for i in range(len(X)):\n",
        "    img = X[i]\n",
        "    img = cv2.resize(img, (32, 32))\n",
        "    X[i] = img\n",
        "    \n",
        "print(len(X))\n",
        "print(X[0].shape)"
      ]
    },
    {
      "cell_type": "code",
      "execution_count": 49,
      "id": "7a3310dd",
      "metadata": {
        "colab": {
          "base_uri": "https://localhost:8080/"
        },
        "id": "7a3310dd",
        "outputId": "d72b3cc0-0801-4901-c445-44faf50250f3"
      },
      "outputs": [
        {
          "output_type": "stream",
          "name": "stdout",
          "text": [
            "(1452,)\n",
            "0\n",
            "{0, 1}\n"
          ]
        }
      ],
      "source": [
        "label_encoder = LabelEncoder()\n",
        "Y = label_encoder.fit_transform(Y)\n",
        "print(Y.shape)\n",
        "print(Y[0])\n",
        "print(set(Y))"
      ]
    },
    {
      "cell_type": "code",
      "execution_count": 50,
      "id": "11ac7de4",
      "metadata": {
        "colab": {
          "base_uri": "https://localhost:8080/"
        },
        "id": "11ac7de4",
        "outputId": "518f06f0-f8f7-415e-866f-8bf1e9fdcf65"
      },
      "outputs": [
        {
          "output_type": "stream",
          "name": "stdout",
          "text": [
            "(1452, 32, 32, 3)\n",
            "(1452,)\n"
          ]
        }
      ],
      "source": [
        "X = np.array(X)\n",
        "Y = np.array(Y)\n",
        "print(X.shape)\n",
        "print(Y.shape)"
      ]
    },
    {
      "cell_type": "code",
      "execution_count": 51,
      "id": "c6b3179f",
      "metadata": {
        "id": "c6b3179f"
      },
      "outputs": [],
      "source": [
        "X_train, X_test, Y_train, Y_test = train_test_split(X, Y, test_size=0.2)"
      ]
    },
    {
      "cell_type": "code",
      "execution_count": 52,
      "id": "073d0a65",
      "metadata": {
        "colab": {
          "base_uri": "https://localhost:8080/"
        },
        "id": "073d0a65",
        "outputId": "8fef4473-08aa-43ec-98b7-fb598e159803"
      },
      "outputs": [
        {
          "output_type": "stream",
          "name": "stdout",
          "text": [
            "(1161, 32, 32, 3)\n",
            "(1161,)\n",
            "(291, 32, 32, 3)\n",
            "(291,)\n",
            "(1161, 32, 32, 3)\n",
            "(1161, 2)\n",
            "(291, 32, 32, 3)\n",
            "(291, 2)\n"
          ]
        }
      ],
      "source": [
        "print(X_train.shape)\n",
        "print(Y_train.shape)\n",
        "print(X_test.shape)\n",
        "print(Y_test.shape)\n",
        "\n",
        "Y_train = to_categorical(Y_train)\n",
        "Y_test = to_categorical(Y_test)\n",
        "\n",
        "print(X_train.shape)\n",
        "print(Y_train.shape)\n",
        "print(X_test.shape)\n",
        "print(Y_test.shape)"
      ]
    },
    {
      "cell_type": "code",
      "execution_count": 53,
      "id": "85de772d",
      "metadata": {
        "colab": {
          "base_uri": "https://localhost:8080/",
          "height": 621
        },
        "id": "85de772d",
        "outputId": "5214ed38-97f6-43f9-c878-92104fb0a851"
      },
      "outputs": [
        {
          "output_type": "display_data",
          "data": {
            "text/plain": [
              "<Figure size 360x360 with 1 Axes>"
            ],
            "image/png": "[encoded data removed]"
          },
          "metadata": {
            "needs_background": "light"
          }
        },
        {
          "output_type": "display_data",
          "data": {
            "text/plain": [
              "<Figure size 360x360 with 1 Axes>"
            ],
            "image/png": "[encoded data removed]"
          },
          "metadata": {
            "needs_background": "light"
          }
        }
      ],
      "source": [
        "figure1 = plt.figure(figsize=(5, 5))\n",
        "idx_closed = np.where(Y==0)\n",
        "img_closed = X[idx_closed[0][0]]\n",
        "plt.imshow(img_closed)\n",
        "plt.title('Image of Closed Eye representing Driver is sleeping')\n",
        "plt.axis('off')\n",
        "plt.show()\n",
        "\n",
        "figure2 = plt.figure(figsize=(5, 5))\n",
        "idx_open = np.where(Y==1)\n",
        "img_open = X[idx_open[0][0]]\n",
        "plt.imshow(img_open)\n",
        "plt.title('Image of Open Eye representing Driver is not sleeping')\n",
        "plt.axis('off')\n",
        "plt.show()"
      ]
    },
    {
      "cell_type": "code",
      "execution_count": 54,
      "id": "cb0dadfe",
      "metadata": {
        "id": "cb0dadfe"
      },
      "outputs": [],
      "source": [
        "def driver_drowsiness_detection_model(input_shape=(32, 32, 3)):\n",
        "    model = Sequential()\n",
        "    model.add(Input(shape=input_shape))\n",
        "    model.add(Conv2D(32, (3, 3), padding='same', strides=(1, 1), name='conv1', activation='relu', \n",
        "                     kernel_initializer=glorot_uniform(seed=0)))\n",
        "    model.add(BatchNormalization())\n",
        "    model.add(Conv2D(32, (3, 3), padding='same', strides=(1, 1), name='conv2', activation='relu', \n",
        "                     kernel_initializer=glorot_uniform(seed=0)))\n",
        "    model.add(BatchNormalization())\n",
        "    model.add(Dropout(0.2))\n",
        "    model.add(MaxPool2D((2, 2), strides=(2, 2)))\n",
        "    \n",
        "    model.add(Conv2D(64, (3, 3), padding='same', strides=(1, 1), name='conv3', activation='relu', \n",
        "                     kernel_initializer=glorot_uniform(seed=0)))\n",
        "    model.add(BatchNormalization())\n",
        "    model.add(MaxPool2D((2, 2), strides=(2, 2)))\n",
        "    model.add(Conv2D(64, (3, 3), padding='same', strides=(1, 1), name='conv4', activation='relu', \n",
        "                     kernel_initializer=glorot_uniform(seed=0)))\n",
        "    model.add(BatchNormalization())\n",
        "    model.add(Dropout(0.3))\n",
        "    model.add(MaxPool2D((2, 2), strides=(2, 2)))\n",
        "    \n",
        "    model.add(Conv2D(64, (3, 3), padding='same', strides=(1, 1), name='conv5', activation='relu', \n",
        "                     kernel_initializer=glorot_uniform(seed=0)))\n",
        "    model.add(BatchNormalization())\n",
        "    model.add(Conv2D(64, (3, 3), padding='same', strides=(1, 1), name='conv6', activation='relu', \n",
        "                     kernel_initializer=glorot_uniform(seed=0)))\n",
        "    model.add(BatchNormalization())\n",
        "    model.add(Conv2D(64, (3, 3), padding='same', strides=(1, 1), name='conv7', activation='relu', \n",
        "                     kernel_initializer=glorot_uniform(seed=0)))\n",
        "    model.add(BatchNormalization())\n",
        "    model.add(Dropout(0.4))\n",
        "    model.add(MaxPool2D((2, 2), strides=(2, 2)))\n",
        "    \n",
        "    \n",
        "    model.add(Flatten())\n",
        "    model.add(Dense(128, activation='relu', kernel_initializer=glorot_uniform(seed=0), name='fc1'))\n",
        "    model.add(Dropout(0.5))\n",
        "    model.add(Dense(128, activation='relu', kernel_initializer=glorot_uniform(seed=0), name='fc2'))\n",
        "    model.add(Dropout(0.5))\n",
        "    model.add(Dense(2, activation='softmax', kernel_initializer=glorot_uniform(seed=0), name='fc3'))\n",
        "    \n",
        "    optimizer = Adam(0.0001)\n",
        "    model.compile(optimizer=optimizer, loss='categorical_crossentropy', metrics=['accuracy'])\n",
        "    return model"
      ]
    },
    {
      "cell_type": "code",
      "execution_count": 55,
      "id": "9885ef31",
      "metadata": {
        "colab": {
          "base_uri": "https://localhost:8080/"
        },
        "id": "9885ef31",
        "outputId": "fcca8cca-4d12-4783-a980-ae4a39a1bde4"
      },
      "outputs": [
        {
          "output_type": "stream",
          "name": "stdout",
          "text": [
            "Model: \"sequential_1\"\n",
            "_________________________________________________________________\n",
            " Layer (type)                Output Shape              Param #   \n",
            "=================================================================\n",
            " conv1 (Conv2D)              (None, 32, 32, 32)        896       \n",
            "                                                                 \n",
            " batch_normalization_7 (Batc  (None, 32, 32, 32)       128       \n",
            " hNormalization)                                                 \n",
            "                                                                 \n",
            " conv2 (Conv2D)              (None, 32, 32, 32)        9248      \n",
            "                                                                 \n",
            " batch_normalization_8 (Batc  (None, 32, 32, 32)       128       \n",
            " hNormalization)                                                 \n",
            "                                                                 \n",
            " dropout_5 (Dropout)         (None, 32, 32, 32)        0         \n",
            "                                                                 \n",
            " max_pooling2d_4 (MaxPooling  (None, 16, 16, 32)       0         \n",
            " 2D)                                                             \n",
            "                                                                 \n",
            " conv3 (Conv2D)              (None, 16, 16, 64)        18496     \n",
            "                                                                 \n",
            " batch_normalization_9 (Batc  (None, 16, 16, 64)       256       \n",
            " hNormalization)                                                 \n",
            "                                                                 \n",
            " max_pooling2d_5 (MaxPooling  (None, 8, 8, 64)         0         \n",
            " 2D)                                                             \n",
            "                                                                 \n",
            " conv4 (Conv2D)              (None, 8, 8, 64)          36928     \n",
            "                                                                 \n",
            " batch_normalization_10 (Bat  (None, 8, 8, 64)         256       \n",
            " chNormalization)                                                \n",
            "                                                                 \n",
            " dropout_6 (Dropout)         (None, 8, 8, 64)          0         \n",
            "                                                                 \n",
            " max_pooling2d_6 (MaxPooling  (None, 4, 4, 64)         0         \n",
            " 2D)                                                             \n",
            "                                                                 \n",
            " conv5 (Conv2D)              (None, 4, 4, 64)          36928     \n",
            "                                                                 \n",
            " batch_normalization_11 (Bat  (None, 4, 4, 64)         256       \n",
            " chNormalization)                                                \n",
            "                                                                 \n",
            " conv6 (Conv2D)              (None, 4, 4, 64)          36928     \n",
            "                                                                 \n",
            " batch_normalization_12 (Bat  (None, 4, 4, 64)         256       \n",
            " chNormalization)                                                \n",
            "                                                                 \n",
            " conv7 (Conv2D)              (None, 4, 4, 64)          36928     \n",
            "                                                                 \n",
            " batch_normalization_13 (Bat  (None, 4, 4, 64)         256       \n",
            " chNormalization)                                                \n",
            "                                                                 \n",
            " dropout_7 (Dropout)         (None, 4, 4, 64)          0         \n",
            "                                                                 \n",
            " max_pooling2d_7 (MaxPooling  (None, 2, 2, 64)         0         \n",
            " 2D)                                                             \n",
            "                                                                 \n",
            " flatten_1 (Flatten)         (None, 256)               0         \n",
            "                                                                 \n",
            " fc1 (Dense)                 (None, 128)               32896     \n",
            "                                                                 \n",
            " dropout_8 (Dropout)         (None, 128)               0         \n",
            "                                                                 \n",
            " fc2 (Dense)                 (None, 128)               16512     \n",
            "                                                                 \n",
            " dropout_9 (Dropout)         (None, 128)               0         \n",
            "                                                                 \n",
            " fc3 (Dense)                 (None, 2)                 258       \n",
            "                                                                 \n",
            "=================================================================\n",
            "Total params: 227,554\n",
            "Trainable params: 226,786\n",
            "Non-trainable params: 768\n",
            "_________________________________________________________________\n"
          ]
        }
      ],
      "source": [
        "model= driver_drowsiness_detection_model(input_shape=(32, 32, 3))\n",
        "model.summary()"
      ]
    },
    {
      "cell_type": "code",
      "execution_count": 56,
      "id": "a0f505af",
      "metadata": {
        "colab": {
          "base_uri": "https://localhost:8080/"
        },
        "id": "a0f505af",
        "outputId": "23c56b02-b9ef-462d-c213-bed389b50ad4"
      },
      "outputs": [
        {
          "output_type": "stream",
          "name": "stdout",
          "text": [
            "Epoch 1/200\n",
            "10/10 [==============================] - 9s 723ms/step - loss: 1.2687 - accuracy: 0.5357 - val_loss: 0.7864 - val_accuracy: 0.5017\n",
            "Epoch 2/200\n",
            "10/10 [==============================] - 7s 696ms/step - loss: 1.1035 - accuracy: 0.5444 - val_loss: 0.7440 - val_accuracy: 0.5052\n",
            "Epoch 3/200\n",
            "10/10 [==============================] - 7s 690ms/step - loss: 1.0319 - accuracy: 0.5521 - val_loss: 0.7037 - val_accuracy: 0.5223\n",
            "Epoch 4/200\n",
            "10/10 [==============================] - 7s 688ms/step - loss: 0.9958 - accuracy: 0.5573 - val_loss: 0.6689 - val_accuracy: 0.5670\n",
            "Epoch 5/200\n",
            "10/10 [==============================] - 7s 700ms/step - loss: 0.9073 - accuracy: 0.5935 - val_loss: 0.6503 - val_accuracy: 0.6186\n",
            "Epoch 6/200\n",
            "10/10 [==============================] - 7s 768ms/step - loss: 0.9221 - accuracy: 0.5926 - val_loss: 0.6393 - val_accuracy: 0.6770\n",
            "Epoch 7/200\n",
            "10/10 [==============================] - 7s 697ms/step - loss: 0.8193 - accuracy: 0.6133 - val_loss: 0.6352 - val_accuracy: 0.7285\n",
            "Epoch 8/200\n",
            "10/10 [==============================] - 7s 698ms/step - loss: 0.8196 - accuracy: 0.6219 - val_loss: 0.6312 - val_accuracy: 0.7595\n",
            "Epoch 9/200\n",
            "10/10 [==============================] - 7s 696ms/step - loss: 0.8086 - accuracy: 0.6236 - val_loss: 0.6256 - val_accuracy: 0.7732\n",
            "Epoch 10/200\n",
            "10/10 [==============================] - 7s 693ms/step - loss: 0.7151 - accuracy: 0.6537 - val_loss: 0.6188 - val_accuracy: 0.7663\n",
            "Epoch 11/200\n",
            "10/10 [==============================] - 7s 703ms/step - loss: 0.6841 - accuracy: 0.6632 - val_loss: 0.6138 - val_accuracy: 0.7457\n",
            "Epoch 12/200\n",
            "10/10 [==============================] - 7s 701ms/step - loss: 0.7301 - accuracy: 0.6770 - val_loss: 0.6048 - val_accuracy: 0.7457\n",
            "Epoch 13/200\n",
            "10/10 [==============================] - 7s 685ms/step - loss: 0.6560 - accuracy: 0.6848 - val_loss: 0.5920 - val_accuracy: 0.7491\n",
            "Epoch 14/200\n",
            "10/10 [==============================] - 7s 693ms/step - loss: 0.7193 - accuracy: 0.6641 - val_loss: 0.5759 - val_accuracy: 0.7629\n",
            "Epoch 15/200\n",
            "10/10 [==============================] - 7s 688ms/step - loss: 0.6338 - accuracy: 0.7063 - val_loss: 0.5566 - val_accuracy: 0.7732\n",
            "Epoch 16/200\n",
            "10/10 [==============================] - 7s 691ms/step - loss: 0.5852 - accuracy: 0.7183 - val_loss: 0.5356 - val_accuracy: 0.7766\n",
            "Epoch 17/200\n",
            "10/10 [==============================] - 7s 695ms/step - loss: 0.5631 - accuracy: 0.7218 - val_loss: 0.5104 - val_accuracy: 0.7904\n",
            "Epoch 18/200\n",
            "10/10 [==============================] - 7s 693ms/step - loss: 0.5519 - accuracy: 0.7442 - val_loss: 0.4871 - val_accuracy: 0.8110\n",
            "Epoch 19/200\n",
            "10/10 [==============================] - 7s 686ms/step - loss: 0.5923 - accuracy: 0.7562 - val_loss: 0.4574 - val_accuracy: 0.8076\n",
            "Epoch 20/200\n",
            "10/10 [==============================] - 7s 689ms/step - loss: 0.5374 - accuracy: 0.7545 - val_loss: 0.4278 - val_accuracy: 0.8282\n",
            "Epoch 21/200\n",
            "10/10 [==============================] - 7s 684ms/step - loss: 0.5189 - accuracy: 0.7769 - val_loss: 0.4048 - val_accuracy: 0.8522\n",
            "Epoch 22/200\n",
            "10/10 [==============================] - 7s 692ms/step - loss: 0.5163 - accuracy: 0.7795 - val_loss: 0.3861 - val_accuracy: 0.8591\n",
            "Epoch 23/200\n",
            "10/10 [==============================] - 7s 689ms/step - loss: 0.5036 - accuracy: 0.7761 - val_loss: 0.3633 - val_accuracy: 0.8694\n",
            "Epoch 24/200\n",
            "10/10 [==============================] - 7s 691ms/step - loss: 0.4693 - accuracy: 0.7916 - val_loss: 0.3384 - val_accuracy: 0.8832\n",
            "Epoch 25/200\n",
            "10/10 [==============================] - 7s 781ms/step - loss: 0.5073 - accuracy: 0.8036 - val_loss: 0.3225 - val_accuracy: 0.8866\n",
            "Epoch 26/200\n",
            "10/10 [==============================] - 7s 690ms/step - loss: 0.4613 - accuracy: 0.8045 - val_loss: 0.3115 - val_accuracy: 0.8935\n",
            "Epoch 27/200\n",
            "10/10 [==============================] - 7s 681ms/step - loss: 0.4375 - accuracy: 0.8122 - val_loss: 0.2983 - val_accuracy: 0.8969\n",
            "Epoch 28/200\n",
            "10/10 [==============================] - 7s 680ms/step - loss: 0.4088 - accuracy: 0.8432 - val_loss: 0.2840 - val_accuracy: 0.8969\n",
            "Epoch 29/200\n",
            "10/10 [==============================] - 7s 683ms/step - loss: 0.4307 - accuracy: 0.8415 - val_loss: 0.2719 - val_accuracy: 0.8935\n",
            "Epoch 30/200\n",
            "10/10 [==============================] - 7s 687ms/step - loss: 0.4210 - accuracy: 0.8407 - val_loss: 0.2552 - val_accuracy: 0.8900\n",
            "Epoch 31/200\n",
            "10/10 [==============================] - 7s 688ms/step - loss: 0.4359 - accuracy: 0.8484 - val_loss: 0.2410 - val_accuracy: 0.9003\n",
            "Epoch 32/200\n",
            "10/10 [==============================] - 7s 710ms/step - loss: 0.3514 - accuracy: 0.8596 - val_loss: 0.2286 - val_accuracy: 0.9038\n",
            "Epoch 33/200\n",
            "10/10 [==============================] - 7s 689ms/step - loss: 0.3335 - accuracy: 0.8734 - val_loss: 0.2178 - val_accuracy: 0.9038\n",
            "Epoch 34/200\n",
            "10/10 [==============================] - 7s 699ms/step - loss: 0.3496 - accuracy: 0.8553 - val_loss: 0.2083 - val_accuracy: 0.9072\n",
            "Epoch 35/200\n",
            "10/10 [==============================] - 7s 688ms/step - loss: 0.3219 - accuracy: 0.8760 - val_loss: 0.1987 - val_accuracy: 0.9107\n",
            "Epoch 36/200\n",
            "10/10 [==============================] - 7s 698ms/step - loss: 0.3342 - accuracy: 0.8751 - val_loss: 0.1923 - val_accuracy: 0.9141\n",
            "Epoch 37/200\n",
            "10/10 [==============================] - 7s 692ms/step - loss: 0.3177 - accuracy: 0.8777 - val_loss: 0.1840 - val_accuracy: 0.9141\n",
            "Epoch 38/200\n",
            "10/10 [==============================] - 7s 763ms/step - loss: 0.3069 - accuracy: 0.8837 - val_loss: 0.1737 - val_accuracy: 0.9313\n",
            "Epoch 39/200\n",
            "10/10 [==============================] - 7s 690ms/step - loss: 0.2980 - accuracy: 0.8906 - val_loss: 0.1667 - val_accuracy: 0.9381\n",
            "Epoch 40/200\n",
            "10/10 [==============================] - 7s 687ms/step - loss: 0.3141 - accuracy: 0.8803 - val_loss: 0.1611 - val_accuracy: 0.9313\n",
            "Epoch 41/200\n",
            "10/10 [==============================] - 7s 691ms/step - loss: 0.2988 - accuracy: 0.8889 - val_loss: 0.1578 - val_accuracy: 0.9347\n",
            "Epoch 42/200\n",
            "10/10 [==============================] - 7s 683ms/step - loss: 0.2906 - accuracy: 0.8923 - val_loss: 0.1539 - val_accuracy: 0.9381\n",
            "Epoch 43/200\n",
            "10/10 [==============================] - 7s 688ms/step - loss: 0.2710 - accuracy: 0.9053 - val_loss: 0.1474 - val_accuracy: 0.9381\n",
            "Epoch 44/200\n",
            "10/10 [==============================] - 7s 690ms/step - loss: 0.2665 - accuracy: 0.9001 - val_loss: 0.1441 - val_accuracy: 0.9347\n",
            "Epoch 45/200\n",
            "10/10 [==============================] - 7s 686ms/step - loss: 0.2520 - accuracy: 0.9070 - val_loss: 0.1398 - val_accuracy: 0.9347\n",
            "Epoch 46/200\n",
            "10/10 [==============================] - 7s 687ms/step - loss: 0.2458 - accuracy: 0.9044 - val_loss: 0.1352 - val_accuracy: 0.9347\n",
            "Epoch 47/200\n",
            "10/10 [==============================] - 7s 685ms/step - loss: 0.2424 - accuracy: 0.9104 - val_loss: 0.1324 - val_accuracy: 0.9416\n",
            "Epoch 48/200\n",
            "10/10 [==============================] - 7s 685ms/step - loss: 0.2286 - accuracy: 0.9053 - val_loss: 0.1366 - val_accuracy: 0.9416\n",
            "Epoch 49/200\n",
            "10/10 [==============================] - 7s 760ms/step - loss: 0.2173 - accuracy: 0.9190 - val_loss: 0.1286 - val_accuracy: 0.9347\n",
            "Epoch 50/200\n",
            "10/10 [==============================] - 7s 686ms/step - loss: 0.2409 - accuracy: 0.9078 - val_loss: 0.1218 - val_accuracy: 0.9381\n",
            "Epoch 51/200\n",
            "10/10 [==============================] - 7s 690ms/step - loss: 0.2419 - accuracy: 0.9053 - val_loss: 0.1212 - val_accuracy: 0.9450\n",
            "Epoch 52/200\n",
            "10/10 [==============================] - 7s 691ms/step - loss: 0.2426 - accuracy: 0.9225 - val_loss: 0.1165 - val_accuracy: 0.9588\n",
            "Epoch 53/200\n",
            "10/10 [==============================] - 7s 683ms/step - loss: 0.2232 - accuracy: 0.9233 - val_loss: 0.1118 - val_accuracy: 0.9519\n",
            "Epoch 54/200\n",
            "10/10 [==============================] - 7s 683ms/step - loss: 0.2188 - accuracy: 0.9190 - val_loss: 0.1088 - val_accuracy: 0.9519\n",
            "Epoch 55/200\n",
            "10/10 [==============================] - 7s 691ms/step - loss: 0.2063 - accuracy: 0.9139 - val_loss: 0.1070 - val_accuracy: 0.9519\n",
            "Epoch 56/200\n",
            "10/10 [==============================] - 7s 689ms/step - loss: 0.2282 - accuracy: 0.9225 - val_loss: 0.1034 - val_accuracy: 0.9588\n",
            "Epoch 57/200\n",
            "10/10 [==============================] - 7s 763ms/step - loss: 0.2208 - accuracy: 0.9294 - val_loss: 0.1011 - val_accuracy: 0.9588\n",
            "Epoch 58/200\n",
            "10/10 [==============================] - 7s 688ms/step - loss: 0.1911 - accuracy: 0.9320 - val_loss: 0.0971 - val_accuracy: 0.9553\n",
            "Epoch 59/200\n",
            "10/10 [==============================] - 7s 688ms/step - loss: 0.1771 - accuracy: 0.9380 - val_loss: 0.0925 - val_accuracy: 0.9588\n",
            "Epoch 60/200\n",
            "10/10 [==============================] - 7s 688ms/step - loss: 0.1851 - accuracy: 0.9345 - val_loss: 0.0906 - val_accuracy: 0.9588\n",
            "Epoch 61/200\n",
            "10/10 [==============================] - 7s 691ms/step - loss: 0.1712 - accuracy: 0.9440 - val_loss: 0.0927 - val_accuracy: 0.9622\n",
            "Epoch 62/200\n",
            "10/10 [==============================] - 7s 690ms/step - loss: 0.1691 - accuracy: 0.9414 - val_loss: 0.0911 - val_accuracy: 0.9691\n",
            "Epoch 63/200\n",
            "10/10 [==============================] - 7s 695ms/step - loss: 0.1517 - accuracy: 0.9475 - val_loss: 0.0867 - val_accuracy: 0.9691\n",
            "Epoch 64/200\n",
            "10/10 [==============================] - 7s 687ms/step - loss: 0.1804 - accuracy: 0.9363 - val_loss: 0.0837 - val_accuracy: 0.9725\n",
            "Epoch 65/200\n",
            "10/10 [==============================] - 7s 685ms/step - loss: 0.1678 - accuracy: 0.9449 - val_loss: 0.0844 - val_accuracy: 0.9725\n",
            "Epoch 66/200\n",
            "10/10 [==============================] - 7s 695ms/step - loss: 0.1694 - accuracy: 0.9388 - val_loss: 0.0838 - val_accuracy: 0.9691\n",
            "Epoch 67/200\n",
            "10/10 [==============================] - 7s 683ms/step - loss: 0.2018 - accuracy: 0.9276 - val_loss: 0.0814 - val_accuracy: 0.9622\n",
            "Epoch 68/200\n",
            "10/10 [==============================] - 7s 679ms/step - loss: 0.1564 - accuracy: 0.9449 - val_loss: 0.0797 - val_accuracy: 0.9656\n",
            "Epoch 69/200\n",
            "10/10 [==============================] - 7s 681ms/step - loss: 0.1310 - accuracy: 0.9552 - val_loss: 0.0830 - val_accuracy: 0.9656\n",
            "Epoch 70/200\n",
            "10/10 [==============================] - 7s 683ms/step - loss: 0.1381 - accuracy: 0.9457 - val_loss: 0.0842 - val_accuracy: 0.9656\n",
            "Epoch 71/200\n",
            "10/10 [==============================] - 8s 818ms/step - loss: 0.1247 - accuracy: 0.9587 - val_loss: 0.0769 - val_accuracy: 0.9691\n",
            "Epoch 72/200\n",
            "10/10 [==============================] - 7s 779ms/step - loss: 0.1497 - accuracy: 0.9432 - val_loss: 0.0713 - val_accuracy: 0.9725\n",
            "Epoch 73/200\n",
            "10/10 [==============================] - 7s 696ms/step - loss: 0.1299 - accuracy: 0.9466 - val_loss: 0.0678 - val_accuracy: 0.9725\n",
            "Epoch 74/200\n",
            "10/10 [==============================] - 7s 693ms/step - loss: 0.1374 - accuracy: 0.9509 - val_loss: 0.0679 - val_accuracy: 0.9725\n",
            "Epoch 75/200\n",
            "10/10 [==============================] - 7s 693ms/step - loss: 0.1332 - accuracy: 0.9595 - val_loss: 0.0786 - val_accuracy: 0.9622\n",
            "Epoch 76/200\n",
            "10/10 [==============================] - 7s 781ms/step - loss: 0.1277 - accuracy: 0.9483 - val_loss: 0.0811 - val_accuracy: 0.9622\n",
            "Epoch 77/200\n",
            "10/10 [==============================] - 7s 699ms/step - loss: 0.1547 - accuracy: 0.9466 - val_loss: 0.0830 - val_accuracy: 0.9588\n",
            "Epoch 78/200\n",
            "10/10 [==============================] - 7s 696ms/step - loss: 0.1093 - accuracy: 0.9526 - val_loss: 0.0788 - val_accuracy: 0.9553\n",
            "Epoch 79/200\n",
            "10/10 [==============================] - 7s 704ms/step - loss: 0.1457 - accuracy: 0.9535 - val_loss: 0.0751 - val_accuracy: 0.9588\n",
            "Epoch 80/200\n",
            "10/10 [==============================] - 7s 710ms/step - loss: 0.1208 - accuracy: 0.9561 - val_loss: 0.0708 - val_accuracy: 0.9691\n",
            "Epoch 81/200\n",
            "10/10 [==============================] - 7s 698ms/step - loss: 0.1387 - accuracy: 0.9483 - val_loss: 0.0717 - val_accuracy: 0.9725\n",
            "Epoch 82/200\n",
            "10/10 [==============================] - 7s 702ms/step - loss: 0.1133 - accuracy: 0.9638 - val_loss: 0.0688 - val_accuracy: 0.9691\n",
            "Epoch 83/200\n",
            "10/10 [==============================] - 7s 702ms/step - loss: 0.1146 - accuracy: 0.9595 - val_loss: 0.0677 - val_accuracy: 0.9691\n",
            "Epoch 84/200\n",
            "10/10 [==============================] - 7s 699ms/step - loss: 0.1255 - accuracy: 0.9604 - val_loss: 0.0680 - val_accuracy: 0.9759\n",
            "Epoch 85/200\n",
            "10/10 [==============================] - 7s 702ms/step - loss: 0.1401 - accuracy: 0.9543 - val_loss: 0.0732 - val_accuracy: 0.9691\n",
            "Epoch 86/200\n",
            "10/10 [==============================] - 7s 709ms/step - loss: 0.1233 - accuracy: 0.9630 - val_loss: 0.0711 - val_accuracy: 0.9725\n",
            "Epoch 87/200\n",
            "10/10 [==============================] - 7s 783ms/step - loss: 0.0854 - accuracy: 0.9699 - val_loss: 0.0668 - val_accuracy: 0.9794\n",
            "Epoch 88/200\n",
            "10/10 [==============================] - 7s 699ms/step - loss: 0.0900 - accuracy: 0.9716 - val_loss: 0.0628 - val_accuracy: 0.9725\n",
            "Epoch 89/200\n",
            "10/10 [==============================] - 7s 706ms/step - loss: 0.0990 - accuracy: 0.9621 - val_loss: 0.0723 - val_accuracy: 0.9691\n",
            "Epoch 90/200\n",
            "10/10 [==============================] - 7s 704ms/step - loss: 0.1152 - accuracy: 0.9561 - val_loss: 0.0661 - val_accuracy: 0.9759\n",
            "Epoch 91/200\n",
            "10/10 [==============================] - 7s 701ms/step - loss: 0.1212 - accuracy: 0.9587 - val_loss: 0.0650 - val_accuracy: 0.9794\n",
            "Epoch 92/200\n",
            "10/10 [==============================] - 7s 700ms/step - loss: 0.1095 - accuracy: 0.9681 - val_loss: 0.0635 - val_accuracy: 0.9794\n",
            "Epoch 93/200\n",
            "10/10 [==============================] - 7s 701ms/step - loss: 0.1289 - accuracy: 0.9578 - val_loss: 0.0632 - val_accuracy: 0.9794\n",
            "Epoch 94/200\n",
            "10/10 [==============================] - 7s 705ms/step - loss: 0.1123 - accuracy: 0.9655 - val_loss: 0.0660 - val_accuracy: 0.9691\n",
            "Epoch 95/200\n",
            "10/10 [==============================] - 7s 698ms/step - loss: 0.0994 - accuracy: 0.9604 - val_loss: 0.0663 - val_accuracy: 0.9725\n",
            "Epoch 96/200\n",
            "10/10 [==============================] - 7s 697ms/step - loss: 0.1034 - accuracy: 0.9647 - val_loss: 0.0625 - val_accuracy: 0.9725\n",
            "Epoch 97/200\n",
            "10/10 [==============================] - 7s 779ms/step - loss: 0.1010 - accuracy: 0.9561 - val_loss: 0.0671 - val_accuracy: 0.9691\n",
            "Epoch 98/200\n",
            "10/10 [==============================] - 7s 702ms/step - loss: 0.0941 - accuracy: 0.9647 - val_loss: 0.0660 - val_accuracy: 0.9691\n",
            "Epoch 99/200\n",
            "10/10 [==============================] - 7s 695ms/step - loss: 0.1006 - accuracy: 0.9647 - val_loss: 0.0644 - val_accuracy: 0.9759\n",
            "Epoch 100/200\n",
            "10/10 [==============================] - 7s 698ms/step - loss: 0.0851 - accuracy: 0.9673 - val_loss: 0.0668 - val_accuracy: 0.9725\n",
            "Epoch 101/200\n",
            "10/10 [==============================] - 7s 702ms/step - loss: 0.1002 - accuracy: 0.9621 - val_loss: 0.0672 - val_accuracy: 0.9725\n",
            "Epoch 102/200\n",
            "10/10 [==============================] - 7s 688ms/step - loss: 0.1040 - accuracy: 0.9716 - val_loss: 0.0654 - val_accuracy: 0.9759\n",
            "Epoch 103/200\n",
            "10/10 [==============================] - 7s 689ms/step - loss: 0.0899 - accuracy: 0.9673 - val_loss: 0.0653 - val_accuracy: 0.9656\n",
            "Epoch 104/200\n",
            "10/10 [==============================] - 7s 685ms/step - loss: 0.1109 - accuracy: 0.9673 - val_loss: 0.0613 - val_accuracy: 0.9725\n",
            "Epoch 105/200\n",
            "10/10 [==============================] - 7s 687ms/step - loss: 0.0970 - accuracy: 0.9673 - val_loss: 0.0673 - val_accuracy: 0.9656\n",
            "Epoch 106/200\n",
            "10/10 [==============================] - 7s 688ms/step - loss: 0.1109 - accuracy: 0.9569 - val_loss: 0.0608 - val_accuracy: 0.9656\n",
            "Epoch 107/200\n",
            "10/10 [==============================] - 7s 683ms/step - loss: 0.1034 - accuracy: 0.9647 - val_loss: 0.0559 - val_accuracy: 0.9725\n",
            "Epoch 108/200\n",
            "10/10 [==============================] - 7s 687ms/step - loss: 0.0846 - accuracy: 0.9707 - val_loss: 0.0556 - val_accuracy: 0.9725\n",
            "Epoch 109/200\n",
            "10/10 [==============================] - 7s 686ms/step - loss: 0.0693 - accuracy: 0.9785 - val_loss: 0.0561 - val_accuracy: 0.9691\n",
            "Epoch 110/200\n",
            "10/10 [==============================] - 7s 684ms/step - loss: 0.0811 - accuracy: 0.9681 - val_loss: 0.0590 - val_accuracy: 0.9691\n",
            "Epoch 111/200\n",
            "10/10 [==============================] - 7s 688ms/step - loss: 0.0830 - accuracy: 0.9699 - val_loss: 0.0569 - val_accuracy: 0.9656\n",
            "Epoch 112/200\n",
            "10/10 [==============================] - 7s 687ms/step - loss: 0.0768 - accuracy: 0.9759 - val_loss: 0.0585 - val_accuracy: 0.9725\n",
            "Epoch 113/200\n",
            "10/10 [==============================] - 7s 680ms/step - loss: 0.0824 - accuracy: 0.9733 - val_loss: 0.0588 - val_accuracy: 0.9691\n",
            "Epoch 114/200\n",
            "10/10 [==============================] - 7s 690ms/step - loss: 0.0995 - accuracy: 0.9716 - val_loss: 0.0646 - val_accuracy: 0.9588\n",
            "Epoch 115/200\n",
            "10/10 [==============================] - 7s 679ms/step - loss: 0.0788 - accuracy: 0.9716 - val_loss: 0.0642 - val_accuracy: 0.9622\n",
            "Epoch 116/200\n",
            "10/10 [==============================] - 7s 754ms/step - loss: 0.0829 - accuracy: 0.9724 - val_loss: 0.0602 - val_accuracy: 0.9691\n",
            "Epoch 117/200\n",
            "10/10 [==============================] - 7s 689ms/step - loss: 0.0689 - accuracy: 0.9724 - val_loss: 0.0594 - val_accuracy: 0.9691\n",
            "Epoch 118/200\n",
            "10/10 [==============================] - 7s 686ms/step - loss: 0.0752 - accuracy: 0.9776 - val_loss: 0.0585 - val_accuracy: 0.9691\n",
            "Epoch 119/200\n",
            "10/10 [==============================] - 7s 763ms/step - loss: 0.0823 - accuracy: 0.9664 - val_loss: 0.0577 - val_accuracy: 0.9725\n",
            "Epoch 120/200\n",
            "10/10 [==============================] - 7s 682ms/step - loss: 0.0941 - accuracy: 0.9638 - val_loss: 0.0586 - val_accuracy: 0.9691\n",
            "Epoch 121/200\n",
            "10/10 [==============================] - 7s 685ms/step - loss: 0.0638 - accuracy: 0.9785 - val_loss: 0.0575 - val_accuracy: 0.9691\n",
            "Epoch 122/200\n",
            "10/10 [==============================] - 7s 685ms/step - loss: 0.0743 - accuracy: 0.9750 - val_loss: 0.0598 - val_accuracy: 0.9656\n",
            "Epoch 123/200\n",
            "10/10 [==============================] - 7s 683ms/step - loss: 0.0742 - accuracy: 0.9716 - val_loss: 0.0607 - val_accuracy: 0.9656\n",
            "Epoch 124/200\n",
            "10/10 [==============================] - 7s 753ms/step - loss: 0.0741 - accuracy: 0.9759 - val_loss: 0.0616 - val_accuracy: 0.9622\n",
            "Epoch 125/200\n",
            "10/10 [==============================] - 7s 687ms/step - loss: 0.0612 - accuracy: 0.9785 - val_loss: 0.0593 - val_accuracy: 0.9691\n",
            "Epoch 126/200\n",
            "10/10 [==============================] - 7s 682ms/step - loss: 0.0540 - accuracy: 0.9793 - val_loss: 0.0599 - val_accuracy: 0.9656\n",
            "Epoch 127/200\n",
            "10/10 [==============================] - 7s 680ms/step - loss: 0.0847 - accuracy: 0.9742 - val_loss: 0.0594 - val_accuracy: 0.9656\n",
            "Epoch 128/200\n",
            "10/10 [==============================] - 7s 684ms/step - loss: 0.0602 - accuracy: 0.9750 - val_loss: 0.0658 - val_accuracy: 0.9656\n",
            "Epoch 129/200\n",
            "10/10 [==============================] - 7s 681ms/step - loss: 0.0558 - accuracy: 0.9854 - val_loss: 0.0727 - val_accuracy: 0.9656\n",
            "Epoch 130/200\n",
            "10/10 [==============================] - 7s 686ms/step - loss: 0.0590 - accuracy: 0.9819 - val_loss: 0.0749 - val_accuracy: 0.9656\n",
            "Epoch 131/200\n",
            "10/10 [==============================] - 7s 683ms/step - loss: 0.0608 - accuracy: 0.9776 - val_loss: 0.0758 - val_accuracy: 0.9656\n",
            "Epoch 132/200\n",
            "10/10 [==============================] - 7s 684ms/step - loss: 0.0628 - accuracy: 0.9767 - val_loss: 0.0732 - val_accuracy: 0.9622\n",
            "Epoch 133/200\n",
            "10/10 [==============================] - 7s 684ms/step - loss: 0.0671 - accuracy: 0.9759 - val_loss: 0.0737 - val_accuracy: 0.9622\n",
            "Epoch 134/200\n",
            "10/10 [==============================] - 7s 687ms/step - loss: 0.0612 - accuracy: 0.9811 - val_loss: 0.0715 - val_accuracy: 0.9622\n",
            "Epoch 135/200\n",
            "10/10 [==============================] - 7s 693ms/step - loss: 0.0611 - accuracy: 0.9811 - val_loss: 0.0744 - val_accuracy: 0.9656\n",
            "Epoch 136/200\n",
            "10/10 [==============================] - 7s 690ms/step - loss: 0.0691 - accuracy: 0.9759 - val_loss: 0.0624 - val_accuracy: 0.9656\n",
            "Epoch 137/200\n",
            "10/10 [==============================] - 7s 687ms/step - loss: 0.0683 - accuracy: 0.9759 - val_loss: 0.0535 - val_accuracy: 0.9691\n",
            "Epoch 138/200\n",
            "10/10 [==============================] - 7s 686ms/step - loss: 0.0816 - accuracy: 0.9724 - val_loss: 0.0545 - val_accuracy: 0.9759\n",
            "Epoch 139/200\n",
            "10/10 [==============================] - 7s 763ms/step - loss: 0.0664 - accuracy: 0.9811 - val_loss: 0.0620 - val_accuracy: 0.9759\n",
            "Epoch 140/200\n",
            "10/10 [==============================] - 7s 688ms/step - loss: 0.0404 - accuracy: 0.9862 - val_loss: 0.0586 - val_accuracy: 0.9725\n",
            "Epoch 141/200\n",
            "10/10 [==============================] - 7s 688ms/step - loss: 0.0686 - accuracy: 0.9802 - val_loss: 0.0542 - val_accuracy: 0.9691\n",
            "Epoch 142/200\n",
            "10/10 [==============================] - 7s 686ms/step - loss: 0.0781 - accuracy: 0.9742 - val_loss: 0.0564 - val_accuracy: 0.9691\n",
            "Epoch 143/200\n",
            "10/10 [==============================] - 7s 686ms/step - loss: 0.0519 - accuracy: 0.9836 - val_loss: 0.0591 - val_accuracy: 0.9691\n",
            "Epoch 144/200\n",
            "10/10 [==============================] - 7s 689ms/step - loss: 0.0613 - accuracy: 0.9811 - val_loss: 0.0642 - val_accuracy: 0.9725\n",
            "Epoch 145/200\n",
            "10/10 [==============================] - 7s 689ms/step - loss: 0.0743 - accuracy: 0.9767 - val_loss: 0.0650 - val_accuracy: 0.9759\n",
            "Epoch 146/200\n",
            "10/10 [==============================] - 7s 689ms/step - loss: 0.0466 - accuracy: 0.9871 - val_loss: 0.0706 - val_accuracy: 0.9725\n",
            "Epoch 147/200\n",
            "10/10 [==============================] - 7s 687ms/step - loss: 0.0668 - accuracy: 0.9724 - val_loss: 0.0688 - val_accuracy: 0.9725\n",
            "Epoch 148/200\n",
            "10/10 [==============================] - 7s 687ms/step - loss: 0.0580 - accuracy: 0.9845 - val_loss: 0.0667 - val_accuracy: 0.9725\n",
            "Epoch 149/200\n",
            "10/10 [==============================] - 7s 686ms/step - loss: 0.0530 - accuracy: 0.9811 - val_loss: 0.0611 - val_accuracy: 0.9759\n",
            "Epoch 150/200\n",
            "10/10 [==============================] - 7s 685ms/step - loss: 0.0473 - accuracy: 0.9836 - val_loss: 0.0565 - val_accuracy: 0.9759\n",
            "Epoch 151/200\n",
            "10/10 [==============================] - 7s 678ms/step - loss: 0.0464 - accuracy: 0.9836 - val_loss: 0.0533 - val_accuracy: 0.9759\n",
            "Epoch 152/200\n",
            "10/10 [==============================] - 7s 681ms/step - loss: 0.0588 - accuracy: 0.9836 - val_loss: 0.0517 - val_accuracy: 0.9759\n",
            "Epoch 153/200\n",
            "10/10 [==============================] - 7s 683ms/step - loss: 0.0482 - accuracy: 0.9819 - val_loss: 0.0543 - val_accuracy: 0.9725\n",
            "Epoch 154/200\n",
            "10/10 [==============================] - 7s 680ms/step - loss: 0.0431 - accuracy: 0.9819 - val_loss: 0.0574 - val_accuracy: 0.9725\n",
            "Epoch 155/200\n",
            "10/10 [==============================] - 7s 681ms/step - loss: 0.0360 - accuracy: 0.9854 - val_loss: 0.0610 - val_accuracy: 0.9759\n",
            "Epoch 156/200\n",
            "10/10 [==============================] - 7s 761ms/step - loss: 0.0419 - accuracy: 0.9845 - val_loss: 0.0669 - val_accuracy: 0.9759\n",
            "Epoch 157/200\n",
            "10/10 [==============================] - 7s 684ms/step - loss: 0.0511 - accuracy: 0.9836 - val_loss: 0.0650 - val_accuracy: 0.9725\n",
            "Epoch 158/200\n",
            "10/10 [==============================] - 7s 680ms/step - loss: 0.0444 - accuracy: 0.9854 - val_loss: 0.0642 - val_accuracy: 0.9759\n",
            "Epoch 159/200\n",
            "10/10 [==============================] - 7s 684ms/step - loss: 0.0303 - accuracy: 0.9888 - val_loss: 0.0588 - val_accuracy: 0.9725\n",
            "Epoch 160/200\n",
            "10/10 [==============================] - 7s 683ms/step - loss: 0.0713 - accuracy: 0.9802 - val_loss: 0.0454 - val_accuracy: 0.9794\n",
            "Epoch 161/200\n",
            "10/10 [==============================] - 7s 695ms/step - loss: 0.0520 - accuracy: 0.9785 - val_loss: 0.0383 - val_accuracy: 0.9828\n",
            "Epoch 162/200\n",
            "10/10 [==============================] - 7s 777ms/step - loss: 0.0660 - accuracy: 0.9785 - val_loss: 0.0388 - val_accuracy: 0.9794\n",
            "Epoch 163/200\n",
            "10/10 [==============================] - 7s 776ms/step - loss: 0.0548 - accuracy: 0.9785 - val_loss: 0.0428 - val_accuracy: 0.9794\n",
            "Epoch 164/200\n",
            "10/10 [==============================] - 7s 695ms/step - loss: 0.0412 - accuracy: 0.9862 - val_loss: 0.0448 - val_accuracy: 0.9794\n",
            "Epoch 165/200\n",
            "10/10 [==============================] - 7s 692ms/step - loss: 0.0448 - accuracy: 0.9845 - val_loss: 0.0493 - val_accuracy: 0.9759\n",
            "Epoch 166/200\n",
            "10/10 [==============================] - 7s 777ms/step - loss: 0.0733 - accuracy: 0.9724 - val_loss: 0.0431 - val_accuracy: 0.9794\n",
            "Epoch 167/200\n",
            "10/10 [==============================] - 7s 692ms/step - loss: 0.0624 - accuracy: 0.9811 - val_loss: 0.0362 - val_accuracy: 0.9897\n",
            "Epoch 168/200\n",
            "10/10 [==============================] - 7s 702ms/step - loss: 0.0430 - accuracy: 0.9845 - val_loss: 0.0397 - val_accuracy: 0.9794\n",
            "Epoch 169/200\n",
            "10/10 [==============================] - 7s 699ms/step - loss: 0.0596 - accuracy: 0.9811 - val_loss: 0.0423 - val_accuracy: 0.9759\n",
            "Epoch 170/200\n",
            "10/10 [==============================] - 7s 696ms/step - loss: 0.0540 - accuracy: 0.9802 - val_loss: 0.0528 - val_accuracy: 0.9759\n",
            "Epoch 171/200\n",
            "10/10 [==============================] - 7s 697ms/step - loss: 0.0465 - accuracy: 0.9819 - val_loss: 0.0673 - val_accuracy: 0.9622\n",
            "Epoch 172/200\n",
            "10/10 [==============================] - 7s 700ms/step - loss: 0.0564 - accuracy: 0.9819 - val_loss: 0.0701 - val_accuracy: 0.9691\n",
            "Epoch 173/200\n",
            "10/10 [==============================] - 7s 699ms/step - loss: 0.0480 - accuracy: 0.9811 - val_loss: 0.0722 - val_accuracy: 0.9691\n",
            "Epoch 174/200\n",
            "10/10 [==============================] - 7s 696ms/step - loss: 0.0400 - accuracy: 0.9879 - val_loss: 0.0567 - val_accuracy: 0.9725\n",
            "Epoch 175/200\n",
            "10/10 [==============================] - 7s 698ms/step - loss: 0.0358 - accuracy: 0.9854 - val_loss: 0.0462 - val_accuracy: 0.9794\n",
            "Epoch 176/200\n",
            "10/10 [==============================] - 7s 695ms/step - loss: 0.0308 - accuracy: 0.9914 - val_loss: 0.0391 - val_accuracy: 0.9794\n",
            "Epoch 177/200\n",
            "10/10 [==============================] - 7s 691ms/step - loss: 0.0429 - accuracy: 0.9897 - val_loss: 0.0365 - val_accuracy: 0.9759\n",
            "Epoch 178/200\n",
            "10/10 [==============================] - 7s 705ms/step - loss: 0.0358 - accuracy: 0.9871 - val_loss: 0.0396 - val_accuracy: 0.9759\n",
            "Epoch 179/200\n",
            "10/10 [==============================] - 7s 700ms/step - loss: 0.0423 - accuracy: 0.9871 - val_loss: 0.0424 - val_accuracy: 0.9794\n",
            "Epoch 180/200\n",
            "10/10 [==============================] - 7s 702ms/step - loss: 0.0373 - accuracy: 0.9871 - val_loss: 0.0388 - val_accuracy: 0.9828\n",
            "Epoch 181/200\n",
            "10/10 [==============================] - 7s 700ms/step - loss: 0.0372 - accuracy: 0.9879 - val_loss: 0.0401 - val_accuracy: 0.9759\n",
            "Epoch 182/200\n",
            "10/10 [==============================] - 7s 698ms/step - loss: 0.0344 - accuracy: 0.9854 - val_loss: 0.0381 - val_accuracy: 0.9794\n",
            "Epoch 183/200\n",
            "10/10 [==============================] - 7s 698ms/step - loss: 0.0321 - accuracy: 0.9854 - val_loss: 0.0389 - val_accuracy: 0.9828\n",
            "Epoch 184/200\n",
            "10/10 [==============================] - 7s 699ms/step - loss: 0.0303 - accuracy: 0.9888 - val_loss: 0.0409 - val_accuracy: 0.9794\n",
            "Epoch 185/200\n",
            "10/10 [==============================] - 7s 696ms/step - loss: 0.0309 - accuracy: 0.9905 - val_loss: 0.0416 - val_accuracy: 0.9794\n",
            "Epoch 186/200\n",
            "10/10 [==============================] - 7s 707ms/step - loss: 0.0304 - accuracy: 0.9922 - val_loss: 0.0411 - val_accuracy: 0.9828\n",
            "Epoch 187/200\n",
            "10/10 [==============================] - 7s 696ms/step - loss: 0.0479 - accuracy: 0.9836 - val_loss: 0.0436 - val_accuracy: 0.9794\n",
            "Epoch 188/200\n",
            "10/10 [==============================] - 7s 700ms/step - loss: 0.0293 - accuracy: 0.9888 - val_loss: 0.0403 - val_accuracy: 0.9794\n",
            "Epoch 189/200\n",
            "10/10 [==============================] - 7s 696ms/step - loss: 0.0331 - accuracy: 0.9888 - val_loss: 0.0433 - val_accuracy: 0.9863\n",
            "Epoch 190/200\n",
            "10/10 [==============================] - 7s 696ms/step - loss: 0.0491 - accuracy: 0.9854 - val_loss: 0.0424 - val_accuracy: 0.9794\n",
            "Epoch 191/200\n",
            "10/10 [==============================] - 7s 780ms/step - loss: 0.0325 - accuracy: 0.9922 - val_loss: 0.0286 - val_accuracy: 0.9897\n",
            "Epoch 192/200\n",
            "10/10 [==============================] - 7s 703ms/step - loss: 0.0279 - accuracy: 0.9914 - val_loss: 0.0279 - val_accuracy: 0.9897\n",
            "Epoch 193/200\n",
            "10/10 [==============================] - 7s 708ms/step - loss: 0.0294 - accuracy: 0.9897 - val_loss: 0.0308 - val_accuracy: 0.9897\n",
            "Epoch 194/200\n",
            "10/10 [==============================] - 7s 700ms/step - loss: 0.0384 - accuracy: 0.9871 - val_loss: 0.0458 - val_accuracy: 0.9794\n",
            "Epoch 195/200\n",
            "10/10 [==============================] - 7s 771ms/step - loss: 0.0327 - accuracy: 0.9879 - val_loss: 0.0605 - val_accuracy: 0.9725\n",
            "Epoch 196/200\n",
            "10/10 [==============================] - 7s 698ms/step - loss: 0.0321 - accuracy: 0.9905 - val_loss: 0.0648 - val_accuracy: 0.9725\n",
            "Epoch 197/200\n",
            "10/10 [==============================] - 7s 698ms/step - loss: 0.0273 - accuracy: 0.9922 - val_loss: 0.0595 - val_accuracy: 0.9794\n",
            "Epoch 198/200\n",
            "10/10 [==============================] - 7s 778ms/step - loss: 0.0297 - accuracy: 0.9914 - val_loss: 0.0565 - val_accuracy: 0.9794\n",
            "Epoch 199/200\n",
            "10/10 [==============================] - 7s 703ms/step - loss: 0.0350 - accuracy: 0.9854 - val_loss: 0.0512 - val_accuracy: 0.9794\n",
            "Epoch 200/200\n",
            "10/10 [==============================] - 7s 706ms/step - loss: 0.0291 - accuracy: 0.9914 - val_loss: 0.0496 - val_accuracy: 0.9759\n"
          ]
        }
      ],
      "source": [
        "aug = ImageDataGenerator(rotation_range=20, zoom_range=0.2, horizontal_flip=True)\n",
        "hist = model.fit(aug.flow(X_train, Y_train, batch_size=128), batch_size=128, epochs=200, validation_data=(X_test, Y_test))"
      ]
    },
    {
      "cell_type": "code",
      "execution_count": null,
      "id": "0e00b4da",
      "metadata": {
        "id": "0e00b4da"
      },
      "outputs": [],
      "source": [
        "figure = plt.figure(figsize=(10, 10))\n",
        "plt.plot(hist.history['accuracy'], label='Train_accuracy')\n",
        "plt.plot(hist.history['val_accuracy'], label='Test_accuracy')\n",
        "plt.title('Model Accuracy')\n",
        "plt.xlabel('Epochs')\n",
        "plt.ylabel('Accuracy')\n",
        "plt.legend(loc=\"upper left\")\n",
        "plt.show()\n",
        "\n",
        "figure2 = plt.figure(figsize=(10, 10))\n",
        "plt.plot(hist.history['loss'], label='Train_loss')\n",
        "plt.plot(hist.history['val_loss'], label='Test_loss')\n",
        "plt.title('Model Loss')\n",
        "plt.xlabel('Epochs')\n",
        "plt.ylabel('Loss')\n",
        "plt.legend(loc=\"upper left\")\n",
        "plt.show()"
      ]
    },
    {
      "cell_type": "code",
      "execution_count": null,
      "id": "89894ac1",
      "metadata": {
        "id": "89894ac1"
      },
      "outputs": [],
      "source": [
        "pred = model.evaluate(X_test, Y_test)\n",
        "print(f'Test Set Accuracy: {pred[1]}')\n",
        "print(f'Test Set Loss: {pred[0]}')"
      ]
    },
    {
      "cell_type": "code",
      "execution_count": null,
      "id": "e56b7472",
      "metadata": {
        "id": "e56b7472"
      },
      "outputs": [],
      "source": [
        "ypred = model.predict(X_test)\n",
        "ypred = np.argmax(ypred, axis=1)\n",
        "Y_test_pred = np.argmax(Y_test, axis=1)\n",
        "print(classification_report(Y_test_pred, ypred))"
      ]
    },
    {
      "cell_type": "code",
      "execution_count": null,
      "id": "3006ee4b",
      "metadata": {
        "id": "3006ee4b"
      },
      "outputs": [],
      "source": [
        "matrix = confusion_matrix(Y_test_pred, ypred)\n",
        "df_cm = pd.DataFrame(matrix, index=[0, 1], columns=[0, 1])\n",
        "figure = plt.figure(figsize=(5, 5))\n",
        "sns.heatmap(df_cm, annot=True, fmt='d')"
      ]
    },
    {
      "cell_type": "code",
      "execution_count": null,
      "id": "5b66d293",
      "metadata": {
        "id": "5b66d293"
      },
      "outputs": [],
      "source": [
        "model.save('Driver_Drowsiness_Detection.h5')"
      ]
    },
    {
      "cell_type": "code",
      "source": [
        "labels = ['Closed', 'Open']\n",
        "img_closed1 = cv2.imread('driver_drowsiness_detection/closed_eye.jpg')\n",
        "img_closed2 = cv2.imread('driver_drowsiness_detection/closed_eye2.jpg')\n",
        "img_open1 = cv2.imread('driver_drowsiness_detection/open_eye.jpg')\n",
        "img_open2 = cv2.imread('driver_drowsiness_detection/open_eye2.jpg')\n",
        "\n",
        "img_closed1 = cv2.resize(img_closed1, (32, 32))\n",
        "img_closed2 = cv2.resize(img_closed2, (32, 32))\n",
        "img_open1 = cv2.resize(img_open1, (32, 32))\n",
        "img_open2 = cv2.resize(img_open2, (32, 32))\n",
        "\n",
        "img_closed1 = np.array(img_closed1)\n",
        "img_closed2 = np.array(img_closed2)\n",
        "img_open1 = np.array(img_open1)\n",
        "img_open2 = np.array(img_open2)\n",
        "\n",
        "img_closed1 = np.expand_dims(img_closed1, axis=0)\n",
        "img_closed2 = np.expand_dims(img_closed2, axis=0)\n",
        "img_open1 = np.expand_dims(img_open1, axis=0)\n",
        "img_open2 = np.expand_dims(img_open2, axis=0)"
      ],
      "metadata": {
        "id": "tV3hXmNyYJgh"
      },
      "id": "tV3hXmNyYJgh",
      "execution_count": null,
      "outputs": []
    },
    {
      "cell_type": "code",
      "source": [
        "ypred_closed1 = model.predict(img_closed1)\n",
        "ypred_closed2 = model.predict(img_closed2)\n",
        "ypred_open1 = model.predict(img_open1)\n",
        "ypred_open2 = model.predict(img_open2)"
      ],
      "metadata": {
        "id": "49ltfFoQYKpx"
      },
      "id": "49ltfFoQYKpx",
      "execution_count": null,
      "outputs": []
    },
    {
      "cell_type": "code",
      "source": [
        "figure = plt.figure(figsize=(2, 2))\n",
        "img_closed1 = np.squeeze(img_closed1, axis=0)\n",
        "plt.imshow(img_closed1)\n",
        "plt.axis('off')\n",
        "plt.title(f'Prediction by the model: {labels[np.argmax(ypred_closed1[0], axis=0)]}')\n",
        "plt.show()"
      ],
      "metadata": {
        "id": "CofYdS0nYQQL"
      },
      "id": "CofYdS0nYQQL",
      "execution_count": null,
      "outputs": []
    },
    {
      "cell_type": "code",
      "source": [
        "figure = plt.figure(figsize=(2, 2))\n",
        "img_closed2 = np.squeeze(img_closed2, axis=0)\n",
        "plt.imshow(img_closed2)\n",
        "plt.axis('off')\n",
        "plt.title(f'Prediction by the model: {labels[np.argmax(ypred_closed2[0], axis=0)]}')\n",
        "plt.show()"
      ],
      "metadata": {
        "id": "HCB8j3FPYUGh"
      },
      "id": "HCB8j3FPYUGh",
      "execution_count": null,
      "outputs": []
    },
    {
      "cell_type": "code",
      "source": [
        "figure = plt.figure(figsize=(2, 2))\n",
        "img_open1 = np.squeeze(img_open1, axis=0)\n",
        "plt.imshow(img_open1)\n",
        "plt.axis('off')\n",
        "plt.title(f'Prediction by the model: {labels[np.argmax(ypred_open1[0], axis=0)]}')\n",
        "plt.show()"
      ],
      "metadata": {
        "id": "CIAkR2g4YVq8"
      },
      "id": "CIAkR2g4YVq8",
      "execution_count": null,
      "outputs": []
    },
    {
      "cell_type": "code",
      "source": [
        "figure = plt.figure(figsize=(2, 2))\n",
        "img_open2 = np.squeeze(img_open2, axis=0)\n",
        "plt.imshow(img_open2)\n",
        "plt.axis('off')\n",
        "plt.title(f'Prediction by the model: {labels[np.argmax(ypred_open2[0], axis=0)]}')\n",
        "plt.show()"
      ],
      "metadata": {
        "id": "GMGCZflXYa60"
      },
      "id": "GMGCZflXYa60",
      "execution_count": null,
      "outputs": []
    },
    {
      "cell_type": "code",
      "source": [
        "def full_face_detection_pipeline(input_image_path):\n",
        "    face_cascade = cv2.CascadeClassifier('driver_drowsiness_detection/haarcascade_frontalface_default.xml')\n",
        "    eye_cascade = cv2.CascadeClassifier('driver_drowsiness_detection/haarcascade_eye.xml')\n",
        "    detector = dlib.get_frontal_face_detector()\n",
        "    predictor = dlib.shape_predictor('driver_drowsiness_detection/shape_predictor_68_face_landmarks.dat')\n",
        "    fa = FaceAligner(predictor, desiredFaceWidth=256)\n",
        "    test_image = cv2.imread(input_image_path)\n",
        "    test_image = imutils.resize(test_image, width=800)\n",
        "    test_image_gray = cv2.cvtColor(test_image, cv2.COLOR_BGR2GRAY)\n",
        "    rects = detector(test_image_gray, 2)\n",
        "    for rect in rects:\n",
        "        (x, y, w, h) = rect_to_bb(rect)\n",
        "        faceOrig = imutils.resize(test_image[y:y+h, x:x+w], width=256)\n",
        "        faceAligned = fa.align(test_image, test_image_gray, rect)\n",
        "        faceAligned_gray = cv2.cvtColor(faceAligned, cv2.COLOR_BGR2GRAY)\n",
        "        plt.imshow(faceAligned_gray)\n",
        "        plt.axis('off')\n",
        "        plt.title('Aligned Face')\n",
        "        plt.show()\n",
        "        eyes = eye_cascade.detectMultiScale(faceAligned_gray, 1.1, 4)\n",
        "        predictions = []\n",
        "        for (ex, ey, ew, eh) in eyes:\n",
        "            eye = faceAligned[ey:ey+eh, ex:ex+ew]\n",
        "#             cv2.rectangle(test_image, (x+ex, y+ey), (x+ex+ew, y+ey+eh), (0, 0, 255), 8)\n",
        "            eye = cv2.resize(eye, (32, 32))\n",
        "            eye = np.array(eye)\n",
        "            eye = np.expand_dims(eye, axis=0)\n",
        "            ypred = model.predict(eye)\n",
        "            ypred = np.argmax(ypred[0], axis=0)\n",
        "            predictions.append(ypred)\n",
        "        if all(i==0 for i in predictions):\n",
        "            cv2.rectangle(test_image, (x, y), (x+w, y+h), (0, 0, 255), 8)\n",
        "            cv2.putText(test_image, 'Sleeping', (x, y-10), cv2.FONT_HERSHEY_SIMPLEX, 1.5, (0, 0, 255), 3)\n",
        "        else:\n",
        "            cv2.rectangle(test_image, (x, y), (x+w, y+h), (0, 255, 0), 8)\n",
        "            cv2.putText(test_image, 'Not Sleeping', (x, y-10), cv2.FONT_HERSHEY_SIMPLEX, 1.5, (0, 255, 0), 3)\n",
        "    output_path = 'driver_drowsiness_detection/test_image_prediction.jpg'\n",
        "    cv2.imwrite(output_path, test_image) \n",
        "    return output_path"
      ],
      "metadata": {
        "id": "T1mf5v10gh-A"
      },
      "id": "T1mf5v10gh-A",
      "execution_count": null,
      "outputs": []
    },
    {
      "cell_type": "code",
      "source": [
        "figure = plt.figure(figsize=(5, 5))\n",
        "predicted_image = cv2.imread(full_face_detection_pipeline('driver_drowsiness_detection/active_person.jpg'))\n",
        "predicted_image = cv2.cvtColor(predicted_image, cv2.COLOR_BGR2RGB)\n",
        "plt.imshow(predicted_image)\n",
        "plt.axis('off')\n",
        "plt.show()"
      ],
      "metadata": {
        "id": "jEG2Mh88Yhyy"
      },
      "id": "jEG2Mh88Yhyy",
      "execution_count": null,
      "outputs": []
    },
    {
      "cell_type": "code",
      "source": [
        "figure = plt.figure(figsize=(5, 5))\n",
        "predicted_image = cv2.imread(full_face_detection_pipeline('driver_drowsiness_detection/drowsy_person.jpg'))\n",
        "predicted_image = cv2.cvtColor(predicted_image, cv2.COLOR_BGR2RGB)\n",
        "plt.imshow(predicted_image)\n",
        "plt.axis('off')\n",
        "plt.show()"
      ],
      "metadata": {
        "id": "_yq5mJU-YkSN"
      },
      "id": "_yq5mJU-YkSN",
      "execution_count": null,
      "outputs": []
    },
    {
      "cell_type": "code",
      "source": [
        "igure = plt.figure(figsize=(5, 5))\n",
        "predicted_image = cv2.imread(full_face_detection_pipeline('driver_drowsiness_detection/sleepy-driver.jpg'))\n",
        "predicted_image = cv2.cvtColor(predicted_image, cv2.COLOR_BGR2RGB)\n",
        "plt.imshow(predicted_image)\n",
        "plt.axis('off')\n",
        "plt.show()"
      ],
      "metadata": {
        "id": "2kHKxFneYnRt"
      },
      "id": "2kHKxFneYnRt",
      "execution_count": null,
      "outputs": []
    },
    {
      "cell_type": "code",
      "source": [
        "!deepCC Driver_Drowsiness_Detection.h5"
      ],
      "metadata": {
        "id": "Or8Rl8FuYuhz"
      },
      "id": "Or8Rl8FuYuhz",
      "execution_count": null,
      "outputs": []
    }
  ],
  "metadata": {
    "kernelspec": {
      "display_name": "Python 3 (ipykernel)",
      "language": "python",
      "name": "python3"
    },
    "language_info": {
      "codemirror_mode": {
        "name": "ipython",
        "version": 3
      },
      "file_extension": ".py",
      "mimetype": "text/x-python",
      "name": "python",
      "nbconvert_exporter": "python",
      "pygments_lexer": "ipython3",
      "version": "3.9.7"
    },
    "colab": {
      "name": "SHOW.ipynb",
      "provenance": []
    }
  },
  "nbformat": 4,
  "nbformat_minor": 5
}